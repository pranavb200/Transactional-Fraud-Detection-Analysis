{
 "cells": [
  {
   "cell_type": "code",
   "execution_count": 1,
   "id": "0420ba33",
   "metadata": {},
   "outputs": [],
   "source": [
    "import numpy as np\n",
    "import pandas as pd\n",
    "import matplotlib.pyplot as plt\n",
    "import seaborn as sns\n",
    "from sklearn.model_selection import train_test_split, GridSearchCV, StratifiedKFold\n",
    "from sklearn.preprocessing import StandardScaler\n",
    "from sklearn.linear_model import LogisticRegression\n",
    "from sklearn.pipeline import Pipeline\n",
    "from sklearn.metrics import (confusion_matrix, classification_report,roc_auc_score, roc_curve, PrecisionRecallDisplay,precision_recall_curve, auc)\n",
    "import joblib\n",
    "# imbalanced-learn\n",
    "from imblearn.over_sampling import SMOTE\n",
    "from imblearn.pipeline import Pipeline as ImbPipeline\n"
   ]
  },
  {
   "cell_type": "code",
   "execution_count": 2,
   "id": "7de99cdc",
   "metadata": {},
   "outputs": [
    {
     "data": {
      "text/plain": [
       "((284807, 31),\n",
       " Class\n",
       " 0    284315\n",
       " 1       492\n",
       " Name: count, dtype: int64)"
      ]
     },
     "execution_count": 2,
     "metadata": {},
     "output_type": "execute_result"
    }
   ],
   "source": [
    "df = pd.read_csv(r\"C:\\Users\\veera\\Downloads\\PRANAV B\\docs\\projects\\Transactional Fraud Detection Analysis\\data\\clean_creditcard.csv\")  # adjust path if needed\n",
    "df.shape, df['Class'].value_counts()"
   ]
  },
  {
   "cell_type": "code",
   "execution_count": 3,
   "id": "90805f73",
   "metadata": {},
   "outputs": [
    {
     "data": {
      "text/html": [
       "<div>\n",
       "<style scoped>\n",
       "    .dataframe tbody tr th:only-of-type {\n",
       "        vertical-align: middle;\n",
       "    }\n",
       "\n",
       "    .dataframe tbody tr th {\n",
       "        vertical-align: top;\n",
       "    }\n",
       "\n",
       "    .dataframe thead th {\n",
       "        text-align: right;\n",
       "    }\n",
       "</style>\n",
       "<table border=\"1\" class=\"dataframe\">\n",
       "  <thead>\n",
       "    <tr style=\"text-align: right;\">\n",
       "      <th></th>\n",
       "      <th>V1</th>\n",
       "      <th>V2</th>\n",
       "      <th>V3</th>\n",
       "      <th>V4</th>\n",
       "      <th>V5</th>\n",
       "      <th>V6</th>\n",
       "      <th>V7</th>\n",
       "      <th>V8</th>\n",
       "      <th>V9</th>\n",
       "      <th>V10</th>\n",
       "      <th>...</th>\n",
       "      <th>V22</th>\n",
       "      <th>V23</th>\n",
       "      <th>V24</th>\n",
       "      <th>V25</th>\n",
       "      <th>V26</th>\n",
       "      <th>V27</th>\n",
       "      <th>V28</th>\n",
       "      <th>Amount_log</th>\n",
       "      <th>Hour</th>\n",
       "      <th>Class</th>\n",
       "    </tr>\n",
       "  </thead>\n",
       "  <tbody>\n",
       "    <tr>\n",
       "      <th>0</th>\n",
       "      <td>-1.359807</td>\n",
       "      <td>-0.072781</td>\n",
       "      <td>2.536347</td>\n",
       "      <td>1.378155</td>\n",
       "      <td>-0.338321</td>\n",
       "      <td>0.462388</td>\n",
       "      <td>0.239599</td>\n",
       "      <td>0.098698</td>\n",
       "      <td>0.363787</td>\n",
       "      <td>0.090794</td>\n",
       "      <td>...</td>\n",
       "      <td>0.277838</td>\n",
       "      <td>-0.110474</td>\n",
       "      <td>0.066928</td>\n",
       "      <td>0.128539</td>\n",
       "      <td>-0.189115</td>\n",
       "      <td>0.133558</td>\n",
       "      <td>-0.021053</td>\n",
       "      <td>5.014760</td>\n",
       "      <td>0</td>\n",
       "      <td>0</td>\n",
       "    </tr>\n",
       "    <tr>\n",
       "      <th>1</th>\n",
       "      <td>1.191857</td>\n",
       "      <td>0.266151</td>\n",
       "      <td>0.166480</td>\n",
       "      <td>0.448154</td>\n",
       "      <td>0.060018</td>\n",
       "      <td>-0.082361</td>\n",
       "      <td>-0.078803</td>\n",
       "      <td>0.085102</td>\n",
       "      <td>-0.255425</td>\n",
       "      <td>-0.166974</td>\n",
       "      <td>...</td>\n",
       "      <td>-0.638672</td>\n",
       "      <td>0.101288</td>\n",
       "      <td>-0.339846</td>\n",
       "      <td>0.167170</td>\n",
       "      <td>0.125895</td>\n",
       "      <td>-0.008983</td>\n",
       "      <td>0.014724</td>\n",
       "      <td>1.305626</td>\n",
       "      <td>0</td>\n",
       "      <td>0</td>\n",
       "    </tr>\n",
       "    <tr>\n",
       "      <th>2</th>\n",
       "      <td>-1.358354</td>\n",
       "      <td>-1.340163</td>\n",
       "      <td>1.773209</td>\n",
       "      <td>0.379780</td>\n",
       "      <td>-0.503198</td>\n",
       "      <td>1.800499</td>\n",
       "      <td>0.791461</td>\n",
       "      <td>0.247676</td>\n",
       "      <td>-1.514654</td>\n",
       "      <td>0.207643</td>\n",
       "      <td>...</td>\n",
       "      <td>0.771679</td>\n",
       "      <td>0.909412</td>\n",
       "      <td>-0.689281</td>\n",
       "      <td>-0.327642</td>\n",
       "      <td>-0.139097</td>\n",
       "      <td>-0.055353</td>\n",
       "      <td>-0.059752</td>\n",
       "      <td>5.939276</td>\n",
       "      <td>0</td>\n",
       "      <td>0</td>\n",
       "    </tr>\n",
       "    <tr>\n",
       "      <th>3</th>\n",
       "      <td>-0.966272</td>\n",
       "      <td>-0.185226</td>\n",
       "      <td>1.792993</td>\n",
       "      <td>-0.863291</td>\n",
       "      <td>-0.010309</td>\n",
       "      <td>1.247203</td>\n",
       "      <td>0.237609</td>\n",
       "      <td>0.377436</td>\n",
       "      <td>-1.387024</td>\n",
       "      <td>-0.054952</td>\n",
       "      <td>...</td>\n",
       "      <td>0.005274</td>\n",
       "      <td>-0.190321</td>\n",
       "      <td>-1.175575</td>\n",
       "      <td>0.647376</td>\n",
       "      <td>-0.221929</td>\n",
       "      <td>0.062723</td>\n",
       "      <td>0.061458</td>\n",
       "      <td>4.824306</td>\n",
       "      <td>0</td>\n",
       "      <td>0</td>\n",
       "    </tr>\n",
       "    <tr>\n",
       "      <th>4</th>\n",
       "      <td>-1.158233</td>\n",
       "      <td>0.877737</td>\n",
       "      <td>1.548718</td>\n",
       "      <td>0.403034</td>\n",
       "      <td>-0.407193</td>\n",
       "      <td>0.095921</td>\n",
       "      <td>0.592941</td>\n",
       "      <td>-0.270533</td>\n",
       "      <td>0.817739</td>\n",
       "      <td>0.753074</td>\n",
       "      <td>...</td>\n",
       "      <td>0.798278</td>\n",
       "      <td>-0.137458</td>\n",
       "      <td>0.141267</td>\n",
       "      <td>-0.206010</td>\n",
       "      <td>0.502292</td>\n",
       "      <td>0.219422</td>\n",
       "      <td>0.215153</td>\n",
       "      <td>4.262539</td>\n",
       "      <td>0</td>\n",
       "      <td>0</td>\n",
       "    </tr>\n",
       "  </tbody>\n",
       "</table>\n",
       "<p>5 rows × 31 columns</p>\n",
       "</div>"
      ],
      "text/plain": [
       "         V1        V2        V3        V4        V5        V6        V7  \\\n",
       "0 -1.359807 -0.072781  2.536347  1.378155 -0.338321  0.462388  0.239599   \n",
       "1  1.191857  0.266151  0.166480  0.448154  0.060018 -0.082361 -0.078803   \n",
       "2 -1.358354 -1.340163  1.773209  0.379780 -0.503198  1.800499  0.791461   \n",
       "3 -0.966272 -0.185226  1.792993 -0.863291 -0.010309  1.247203  0.237609   \n",
       "4 -1.158233  0.877737  1.548718  0.403034 -0.407193  0.095921  0.592941   \n",
       "\n",
       "         V8        V9       V10  ...       V22       V23       V24       V25  \\\n",
       "0  0.098698  0.363787  0.090794  ...  0.277838 -0.110474  0.066928  0.128539   \n",
       "1  0.085102 -0.255425 -0.166974  ... -0.638672  0.101288 -0.339846  0.167170   \n",
       "2  0.247676 -1.514654  0.207643  ...  0.771679  0.909412 -0.689281 -0.327642   \n",
       "3  0.377436 -1.387024 -0.054952  ...  0.005274 -0.190321 -1.175575  0.647376   \n",
       "4 -0.270533  0.817739  0.753074  ...  0.798278 -0.137458  0.141267 -0.206010   \n",
       "\n",
       "        V26       V27       V28  Amount_log  Hour  Class  \n",
       "0 -0.189115  0.133558 -0.021053    5.014760     0      0  \n",
       "1  0.125895 -0.008983  0.014724    1.305626     0      0  \n",
       "2 -0.139097 -0.055353 -0.059752    5.939276     0      0  \n",
       "3 -0.221929  0.062723  0.061458    4.824306     0      0  \n",
       "4  0.502292  0.219422  0.215153    4.262539     0      0  \n",
       "\n",
       "[5 rows x 31 columns]"
      ]
     },
     "execution_count": 3,
     "metadata": {},
     "output_type": "execute_result"
    }
   ],
   "source": [
    "# Cell 3 — feature engineering\n",
    "df = df.copy()\n",
    "# Hour feature (0-23)\n",
    "df['Hour'] = ((df['Time'] / 3600) % 24).astype(int)\n",
    "# Log transform amount\n",
    "df['Amount_log'] = np.log1p(df['Amount'])\n",
    "# Features list (V1..V28 exist in the dataset)\n",
    "pca_cols = [c for c in df.columns if c.startswith('V')]\n",
    "feature_cols = pca_cols + ['Amount_log', 'Hour']\n",
    "target_col = 'Class'\n",
    "\n",
    "# Quick check\n",
    "df[feature_cols + [target_col]].head()\n"
   ]
  },
  {
   "cell_type": "code",
   "execution_count": 4,
   "id": "80cd13f8",
   "metadata": {},
   "outputs": [
    {
     "name": "stdout",
     "output_type": "stream",
     "text": [
      "Train shape: (227845, 30) Test shape: (56962, 30)\n",
      "Train class distribution:\n",
      " Class\n",
      "0    0.998271\n",
      "1    0.001729\n",
      "Name: proportion, dtype: float64\n"
     ]
    }
   ],
   "source": [
    "# Cell 4 — train/test split (stratified)\n",
    "X = df[feature_cols]\n",
    "y = df[target_col]\n",
    "\n",
    "X_train, X_test, y_train, y_test = train_test_split(\n",
    "    X, y, test_size=0.20, random_state=42, stratify=y\n",
    ")\n",
    "\n",
    "print(\"Train shape:\", X_train.shape, \"Test shape:\", X_test.shape)\n",
    "print(\"Train class distribution:\\n\", y_train.value_counts(normalize=True))\n"
   ]
  },
  {
   "cell_type": "code",
   "execution_count": 6,
   "id": "e0a69013",
   "metadata": {},
   "outputs": [
    {
     "name": "stdout",
     "output_type": "stream",
     "text": [
      "Fitting 5 folds for each of 8 candidates, totalling 40 fits\n",
      "Best params: {'clf__C': 0.01, 'clf__class_weight': None}\n",
      "Best CV ROC-AUC: 0.9826883575841971\n"
     ]
    }
   ],
   "source": [
    "# Cell 5 — Baseline pipeline: scaling + logistic regression (class_weight)\n",
    "pipe = Pipeline([\n",
    "    ('scaler', StandardScaler()),\n",
    "    ('clf', LogisticRegression(solver='liblinear', max_iter=1000, random_state=42))\n",
    "])\n",
    "\n",
    "param_grid = {\n",
    "    'clf__C': [0.01, 0.1, 1, 10],\n",
    "    'clf__class_weight': [None, 'balanced']\n",
    "}\n",
    "\n",
    "cv = StratifiedKFold(n_splits=5, shuffle=True, random_state=42)\n",
    "\n",
    "gs = GridSearchCV(pipe, param_grid, cv=cv, scoring='roc_auc', n_jobs=-1, verbose=1)\n",
    "gs.fit(X_train, y_train)\n",
    "\n",
    "print(\"Best params:\", gs.best_params_)\n",
    "print(\"Best CV ROC-AUC:\", gs.best_score_)\n"
   ]
  },
  {
   "cell_type": "code",
   "execution_count": 7,
   "id": "75d2eb53",
   "metadata": {},
   "outputs": [
    {
     "name": "stdout",
     "output_type": "stream",
     "text": [
      "              precision    recall  f1-score   support\n",
      "\n",
      "           0     0.9993    0.9998    0.9995     56864\n",
      "           1     0.8169    0.5918    0.6864        98\n",
      "\n",
      "    accuracy                         0.9991     56962\n",
      "   macro avg     0.9081    0.7958    0.8430     56962\n",
      "weighted avg     0.9990    0.9991    0.9990     56962\n",
      "\n",
      "Test ROC-AUC: 0.9756592528682828\n"
     ]
    },
    {
     "data": {
      "image/png": "[encoded data removed]",
      "text/plain": [
       "<Figure size 640x480 with 2 Axes>"
      ]
     },
     "metadata": {},
     "output_type": "display_data"
    }
   ],
   "source": [
    "# Cell 6 — Evaluate on test set (pipeline with class_weight)\n",
    "best_pipe = gs.best_estimator_\n",
    "y_pred = best_pipe.predict(X_test)\n",
    "y_proba = best_pipe.predict_proba(X_test)[:,1]\n",
    "\n",
    "print(classification_report(y_test, y_pred, digits=4))\n",
    "\n",
    "roc_auc = roc_auc_score(y_test, y_proba)\n",
    "print(\"Test ROC-AUC:\", roc_auc)\n",
    "\n",
    "# Confusion matrix\n",
    "cm = confusion_matrix(y_test, y_pred)\n",
    "sns.heatmap(cm, annot=True, fmt='d', cmap='Blues')\n",
    "plt.xlabel('Predicted'); plt.ylabel('Actual'); plt.title('Confusion Matrix')\n",
    "plt.show()\n"
   ]
  },
  {
   "cell_type": "code",
   "execution_count": 8,
   "id": "75bffd8c",
   "metadata": {},
   "outputs": [
    {
     "data": {
      "image/png": "[encoded data removed]",
      "text/plain": [
       "<Figure size 600x400 with 1 Axes>"
      ]
     },
     "metadata": {},
     "output_type": "display_data"
    },
    {
     "data": {
      "image/png": "[encoded data removed]",
      "text/plain": [
       "<Figure size 600x400 with 1 Axes>"
      ]
     },
     "metadata": {},
     "output_type": "display_data"
    }
   ],
   "source": [
    "# Cell 7 — ROC & PR curves\n",
    "fpr, tpr, _ = roc_curve(y_test, y_proba)\n",
    "plt.figure(figsize=(6,4))\n",
    "plt.plot(fpr, tpr, label=f'ROC AUC = {roc_auc:.4f}')\n",
    "plt.plot([0,1],[0,1],'k--')\n",
    "plt.xlabel('False Positive Rate')\n",
    "plt.ylabel('True Positive Rate')\n",
    "plt.title('ROC Curve')\n",
    "plt.legend()\n",
    "plt.show()\n",
    "\n",
    "precision, recall, _ = precision_recall_curve(y_test, y_proba)\n",
    "pr_auc = auc(recall, precision)\n",
    "plt.figure(figsize=(6,4))\n",
    "plt.plot(recall, precision, label=f'PR AUC = {pr_auc:.4f}')\n",
    "plt.xlabel('Recall')\n",
    "plt.ylabel('Precision')\n",
    "plt.title('Precision-Recall Curve')\n",
    "plt.legend()\n",
    "plt.show()\n"
   ]
  },
  {
   "cell_type": "code",
   "execution_count": 9,
   "id": "af7a2afd",
   "metadata": {},
   "outputs": [
    {
     "name": "stdout",
     "output_type": "stream",
     "text": [
      "Fitting 5 folds for each of 6 candidates, totalling 30 fits\n",
      "Best SMOTE params: {'clf__C': 0.01, 'clf__class_weight': None}\n",
      "Best SMOTE CV ROC-AUC: 0.9801339848746947\n"
     ]
    }
   ],
   "source": [
    "# Cell 8 — Try SMOTE pipeline (only on training set via imblearn pipeline)\n",
    "from imblearn.pipeline import Pipeline as ImbPipeline\n",
    "from imblearn.over_sampling import SMOTE\n",
    "from sklearn.preprocessing import StandardScaler\n",
    "from sklearn.linear_model import LogisticRegression\n",
    "from sklearn.model_selection import GridSearchCV\n",
    "\n",
    "# Cell 8 — Try SMOTE pipeline (only on training set via imblearn pipeline)\n",
    "smote_pipe = ImbPipeline([\n",
    "    ('scaler', StandardScaler()),\n",
    "    ('smote', SMOTE(random_state=42)),\n",
    "    ('clf', LogisticRegression(solver='liblinear', max_iter=1000, random_state=42))\n",
    "])\n",
    "\n",
    "param_grid_smote = {\n",
    "    'clf__C': [0.01, 0.1, 1],\n",
    "    'clf__class_weight': [None, 'balanced']\n",
    "}\n",
    "\n",
    "gs_smote = GridSearchCV(\n",
    "    smote_pipe,\n",
    "    param_grid_smote,\n",
    "    cv=cv,\n",
    "    scoring='roc_auc',\n",
    "    n_jobs=-1,\n",
    "    verbose=1\n",
    ")\n",
    "gs_smote.fit(X_train, y_train)\n",
    "\n",
    "print(\"Best SMOTE params:\", gs_smote.best_params_)\n",
    "print(\"Best SMOTE CV ROC-AUC:\", gs_smote.best_score_)\n"
   ]
  },
  {
   "cell_type": "code",
   "execution_count": 10,
   "id": "423fa984",
   "metadata": {},
   "outputs": [
    {
     "name": "stdout",
     "output_type": "stream",
     "text": [
      "SMOTE Model classification report:\n",
      "              precision    recall  f1-score   support\n",
      "\n",
      "           0     0.9999    0.9733    0.9864     56864\n",
      "           1     0.0560    0.9184    0.1056        98\n",
      "\n",
      "    accuracy                         0.9732     56962\n",
      "   macro avg     0.5279    0.9459    0.5460     56962\n",
      "weighted avg     0.9982    0.9732    0.9849     56962\n",
      "\n",
      "SMOTE Test ROC-AUC: 0.9718148672665465\n"
     ]
    }
   ],
   "source": [
    "# Cell 9 — Evaluate SMOTE model\n",
    "best_smote = gs_smote.best_estimator_\n",
    "y_pred_smote = best_smote.predict(X_test)\n",
    "y_proba_smote = best_smote.predict_proba(X_test)[:,1]\n",
    "\n",
    "print(\"SMOTE Model classification report:\")\n",
    "print(classification_report(y_test, y_pred_smote, digits=4))\n",
    "print(\"SMOTE Test ROC-AUC:\", roc_auc_score(y_test, y_proba_smote))\n"
   ]
  },
  {
   "cell_type": "code",
   "execution_count": 11,
   "id": "4562e35a",
   "metadata": {},
   "outputs": [
    {
     "name": "stdout",
     "output_type": "stream",
     "text": [
      "Base ROC: 0.9756592528682828 SMOTE ROC: 0.9718148672665465\n",
      "Selected final model: Pipeline(steps=[('scaler', StandardScaler()),\n",
      "                ('clf',\n",
      "                 LogisticRegression(C=0.01, max_iter=1000, random_state=42,\n",
      "                                    solver='liblinear'))])\n"
     ]
    }
   ],
   "source": [
    "# Cell 10 — Choose final model (compare ROC-AUC or preferred metric)\n",
    "# For demo, pick whichever has higher test ROC-AUC\n",
    "roc_base = roc_auc_score(y_test, best_pipe.predict_proba(X_test)[:,1])\n",
    "roc_sm = roc_auc_score(y_test, best_smote.predict_proba(X_test)[:,1])\n",
    "print(\"Base ROC:\", roc_base, \"SMOTE ROC:\", roc_sm)\n",
    "\n",
    "# Pick final pipeline\n",
    "final_model = best_smote if roc_sm >= roc_base else best_pipe\n",
    "print(\"Selected final model:\", final_model)\n"
   ]
  },
  {
   "cell_type": "code",
   "execution_count": 12,
   "id": "bdb449eb",
   "metadata": {},
   "outputs": [
    {
     "name": "stdout",
     "output_type": "stream",
     "text": [
      "Saved pipeline to ../models/fraud_pipeline_v1.joblib\n"
     ]
    }
   ],
   "source": [
    "# Cell 11 — Save final pipeline\n",
    "joblib.dump(final_model,\"C:/Users/veera/Downloads/PRANAV B/docs/projects/Transactional Fraud Detection Analysis/models/fraud_pipeline_v1.joblib\")\n",
    "\n",
    "print(\"Saved pipeline to ../models/fraud_pipeline_v1.joblib\")\n"
   ]
  },
  {
   "cell_type": "code",
   "execution_count": 16,
   "id": "2a6fdc90",
   "metadata": {},
   "outputs": [
    {
     "name": "stderr",
     "output_type": "stream",
     "text": [
      "[NbConvertApp] Converting notebook week3_modeling.ipynb to html\n",
      "[NbConvertApp] WARNING | Alternative text is missing on 3 image(s).\n",
      "[NbConvertApp] Writing 384282 bytes to reports\\week3_modeling.html\n"
     ]
    }
   ],
   "source": [
    "!jupyter nbconvert --to html \"week3_modeling.ipynb\" --output-dir=\"reports\"\n"
   ]
  },
  {
   "cell_type": "code",
   "execution_count": 17,
   "id": "0fe12576",
   "metadata": {},
   "outputs": [
    {
     "name": "stderr",
     "output_type": "stream",
     "text": [
      "[NbConvertApp] Converting notebook week3_modeling.ipynb to html\n",
      "[NbConvertApp] WARNING | Alternative text is missing on 3 image(s).\n",
      "[NbConvertApp] Writing 384282 bytes to reports\\week3_modeling.html\n"
     ]
    }
   ],
   "source": [
    "!jupyter nbconvert --to html \"week3_modeling.ipynb\" --output-dir=\"reports\""
   ]
  }
 ],
 "metadata": {
  "kernelspec": {
   "display_name": "Python 3",
   "language": "python",
   "name": "python3"
  },
  "language_info": {
   "codemirror_mode": {
    "name": "ipython",
    "version": 3
   },
   "file_extension": ".py",
   "mimetype": "text/x-python",
   "name": "python",
   "nbconvert_exporter": "python",
   "pygments_lexer": "ipython3",
   "version": "3.12.10"
  }
 },
 "nbformat": 4,
 "nbformat_minor": 5
}
